{
 "cells": [
  {
   "cell_type": "code",
   "execution_count": 41,
   "metadata": {},
   "outputs": [],
   "source": [
    "import numpy as np\n",
    "import pandas as pd\n",
    "import seaborn as sns\n",
    "import matplotlib.pyplot as plt\n",
    "\n",
    "from sklearn.preprocessing import PolynomialFeatures\n",
    "from sklearn.preprocessing import StandardScaler\n",
    "from sklearn.model_selection import train_test_split \n",
    "from sklearn.metrics import mean_squared_error\n",
    "from sklearn.linear_model import LinearRegression\n",
    "from sklearn.tree import DecisionTreeRegressor\n",
    "from sklearn.ensemble import RandomForestRegressor\n",
    "from catboost import CatBoostRegressor\n",
    "from hyperopt import hp, fmin, rand\n",
    "import collections\n",
    "import statsmodels.api as sm\n",
    "\n",
    "from lightgbm import LGBMRegressor\n",
    "from catboost import CatBoostRegressor"
   ]
  },
  {
   "cell_type": "code",
   "execution_count": 42,
   "metadata": {
    "scrolled": true
   },
   "outputs": [
    {
     "data": {
      "text/html": [
       "<div>\n",
       "<style scoped>\n",
       "    .dataframe tbody tr th:only-of-type {\n",
       "        vertical-align: middle;\n",
       "    }\n",
       "\n",
       "    .dataframe tbody tr th {\n",
       "        vertical-align: top;\n",
       "    }\n",
       "\n",
       "    .dataframe thead th {\n",
       "        text-align: right;\n",
       "    }\n",
       "</style>\n",
       "<table border=\"1\" class=\"dataframe\">\n",
       "  <thead>\n",
       "    <tr style=\"text-align: right;\">\n",
       "      <th></th>\n",
       "      <th>room_type</th>\n",
       "      <th>price</th>\n",
       "      <th>minimum_nights</th>\n",
       "      <th>number_of_reviews</th>\n",
       "      <th>reviews_per_month</th>\n",
       "      <th>calculated_host_listings_count</th>\n",
       "      <th>availability_365</th>\n",
       "    </tr>\n",
       "  </thead>\n",
       "  <tbody>\n",
       "    <tr>\n",
       "      <th>0</th>\n",
       "      <td>Entire home/apt</td>\n",
       "      <td>40</td>\n",
       "      <td>2</td>\n",
       "      <td>111</td>\n",
       "      <td>9.25</td>\n",
       "      <td>106</td>\n",
       "      <td>365</td>\n",
       "    </tr>\n",
       "    <tr>\n",
       "      <th>1</th>\n",
       "      <td>Entire home/apt</td>\n",
       "      <td>23</td>\n",
       "      <td>2</td>\n",
       "      <td>64</td>\n",
       "      <td>5.33</td>\n",
       "      <td>6</td>\n",
       "      <td>170</td>\n",
       "    </tr>\n",
       "    <tr>\n",
       "      <th>2</th>\n",
       "      <td>Entire home/apt</td>\n",
       "      <td>24</td>\n",
       "      <td>2</td>\n",
       "      <td>13</td>\n",
       "      <td>1.08</td>\n",
       "      <td>22</td>\n",
       "      <td>31</td>\n",
       "    </tr>\n",
       "    <tr>\n",
       "      <th>3</th>\n",
       "      <td>Entire home/apt</td>\n",
       "      <td>24</td>\n",
       "      <td>1</td>\n",
       "      <td>130</td>\n",
       "      <td>10.83</td>\n",
       "      <td>8</td>\n",
       "      <td>15</td>\n",
       "    </tr>\n",
       "    <tr>\n",
       "      <th>4</th>\n",
       "      <td>Entire home/apt</td>\n",
       "      <td>32</td>\n",
       "      <td>3</td>\n",
       "      <td>108</td>\n",
       "      <td>9.00</td>\n",
       "      <td>30</td>\n",
       "      <td>258</td>\n",
       "    </tr>\n",
       "    <tr>\n",
       "      <th>...</th>\n",
       "      <td>...</td>\n",
       "      <td>...</td>\n",
       "      <td>...</td>\n",
       "      <td>...</td>\n",
       "      <td>...</td>\n",
       "      <td>...</td>\n",
       "      <td>...</td>\n",
       "    </tr>\n",
       "    <tr>\n",
       "      <th>165</th>\n",
       "      <td>Entire home/apt</td>\n",
       "      <td>32</td>\n",
       "      <td>1</td>\n",
       "      <td>67</td>\n",
       "      <td>5.58</td>\n",
       "      <td>47</td>\n",
       "      <td>54</td>\n",
       "    </tr>\n",
       "    <tr>\n",
       "      <th>166</th>\n",
       "      <td>Entire home/apt</td>\n",
       "      <td>54</td>\n",
       "      <td>2</td>\n",
       "      <td>31</td>\n",
       "      <td>2.58</td>\n",
       "      <td>14</td>\n",
       "      <td>114</td>\n",
       "    </tr>\n",
       "    <tr>\n",
       "      <th>167</th>\n",
       "      <td>Entire home/apt</td>\n",
       "      <td>62</td>\n",
       "      <td>1</td>\n",
       "      <td>0</td>\n",
       "      <td>0.00</td>\n",
       "      <td>2</td>\n",
       "      <td>54</td>\n",
       "    </tr>\n",
       "    <tr>\n",
       "      <th>168</th>\n",
       "      <td>Entire home/apt</td>\n",
       "      <td>40</td>\n",
       "      <td>2</td>\n",
       "      <td>0</td>\n",
       "      <td>0.00</td>\n",
       "      <td>1</td>\n",
       "      <td>365</td>\n",
       "    </tr>\n",
       "    <tr>\n",
       "      <th>169</th>\n",
       "      <td>Entire home/apt</td>\n",
       "      <td>61</td>\n",
       "      <td>3</td>\n",
       "      <td>6</td>\n",
       "      <td>0.50</td>\n",
       "      <td>21</td>\n",
       "      <td>363</td>\n",
       "    </tr>\n",
       "  </tbody>\n",
       "</table>\n",
       "<p>170 rows × 7 columns</p>\n",
       "</div>"
      ],
      "text/plain": [
       "           room_type  price  minimum_nights  number_of_reviews  \\\n",
       "0    Entire home/apt     40               2                111   \n",
       "1    Entire home/apt     23               2                 64   \n",
       "2    Entire home/apt     24               2                 13   \n",
       "3    Entire home/apt     24               1                130   \n",
       "4    Entire home/apt     32               3                108   \n",
       "..               ...    ...             ...                ...   \n",
       "165  Entire home/apt     32               1                 67   \n",
       "166  Entire home/apt     54               2                 31   \n",
       "167  Entire home/apt     62               1                  0   \n",
       "168  Entire home/apt     40               2                  0   \n",
       "169  Entire home/apt     61               3                  6   \n",
       "\n",
       "     reviews_per_month  calculated_host_listings_count  availability_365  \n",
       "0                 9.25                             106               365  \n",
       "1                 5.33                               6               170  \n",
       "2                 1.08                              22                31  \n",
       "3                10.83                               8                15  \n",
       "4                 9.00                              30               258  \n",
       "..                 ...                             ...               ...  \n",
       "165               5.58                              47                54  \n",
       "166               2.58                              14               114  \n",
       "167               0.00                               2                54  \n",
       "168               0.00                               1               365  \n",
       "169               0.50                              21               363  \n",
       "\n",
       "[170 rows x 7 columns]"
      ]
     },
     "execution_count": 42,
     "metadata": {},
     "output_type": "execute_result"
    }
   ],
   "source": [
    "df = pd.read_csv(\"Kiev.csv\")\n",
    "df = df.drop(columns=[\"id\"])\n",
    "df.reviews_per_month = df.reviews_per_month.str.replace(',','.',regex=True)\n",
    "df.reviews_per_month = pd.to_numeric(df[\"reviews_per_month\"])\n",
    "\n",
    "df"
   ]
  },
  {
   "cell_type": "code",
   "execution_count": 43,
   "metadata": {},
   "outputs": [
    {
     "data": {
      "text/html": [
       "<div>\n",
       "<style scoped>\n",
       "    .dataframe tbody tr th:only-of-type {\n",
       "        vertical-align: middle;\n",
       "    }\n",
       "\n",
       "    .dataframe tbody tr th {\n",
       "        vertical-align: top;\n",
       "    }\n",
       "\n",
       "    .dataframe thead th {\n",
       "        text-align: right;\n",
       "    }\n",
       "</style>\n",
       "<table border=\"1\" class=\"dataframe\">\n",
       "  <thead>\n",
       "    <tr style=\"text-align: right;\">\n",
       "      <th></th>\n",
       "      <th>room_type</th>\n",
       "      <th>price</th>\n",
       "      <th>minimum_nights</th>\n",
       "      <th>number_of_reviews</th>\n",
       "      <th>reviews_per_month</th>\n",
       "      <th>calculated_host_listings_count</th>\n",
       "      <th>availability_365</th>\n",
       "    </tr>\n",
       "  </thead>\n",
       "  <tbody>\n",
       "    <tr>\n",
       "      <th>0</th>\n",
       "      <td>Entire home/apt</td>\n",
       "      <td>40</td>\n",
       "      <td>2</td>\n",
       "      <td>111</td>\n",
       "      <td>9.25</td>\n",
       "      <td>106</td>\n",
       "      <td>365</td>\n",
       "    </tr>\n",
       "    <tr>\n",
       "      <th>1</th>\n",
       "      <td>Entire home/apt</td>\n",
       "      <td>23</td>\n",
       "      <td>2</td>\n",
       "      <td>64</td>\n",
       "      <td>5.33</td>\n",
       "      <td>6</td>\n",
       "      <td>170</td>\n",
       "    </tr>\n",
       "    <tr>\n",
       "      <th>2</th>\n",
       "      <td>Entire home/apt</td>\n",
       "      <td>24</td>\n",
       "      <td>2</td>\n",
       "      <td>13</td>\n",
       "      <td>1.08</td>\n",
       "      <td>22</td>\n",
       "      <td>31</td>\n",
       "    </tr>\n",
       "    <tr>\n",
       "      <th>3</th>\n",
       "      <td>Entire home/apt</td>\n",
       "      <td>24</td>\n",
       "      <td>1</td>\n",
       "      <td>130</td>\n",
       "      <td>10.83</td>\n",
       "      <td>8</td>\n",
       "      <td>15</td>\n",
       "    </tr>\n",
       "    <tr>\n",
       "      <th>4</th>\n",
       "      <td>Entire home/apt</td>\n",
       "      <td>32</td>\n",
       "      <td>3</td>\n",
       "      <td>108</td>\n",
       "      <td>9.00</td>\n",
       "      <td>30</td>\n",
       "      <td>258</td>\n",
       "    </tr>\n",
       "    <tr>\n",
       "      <th>...</th>\n",
       "      <td>...</td>\n",
       "      <td>...</td>\n",
       "      <td>...</td>\n",
       "      <td>...</td>\n",
       "      <td>...</td>\n",
       "      <td>...</td>\n",
       "      <td>...</td>\n",
       "    </tr>\n",
       "    <tr>\n",
       "      <th>165</th>\n",
       "      <td>Entire home/apt</td>\n",
       "      <td>32</td>\n",
       "      <td>1</td>\n",
       "      <td>67</td>\n",
       "      <td>5.58</td>\n",
       "      <td>47</td>\n",
       "      <td>54</td>\n",
       "    </tr>\n",
       "    <tr>\n",
       "      <th>166</th>\n",
       "      <td>Entire home/apt</td>\n",
       "      <td>54</td>\n",
       "      <td>2</td>\n",
       "      <td>31</td>\n",
       "      <td>2.58</td>\n",
       "      <td>14</td>\n",
       "      <td>114</td>\n",
       "    </tr>\n",
       "    <tr>\n",
       "      <th>167</th>\n",
       "      <td>Entire home/apt</td>\n",
       "      <td>62</td>\n",
       "      <td>1</td>\n",
       "      <td>0</td>\n",
       "      <td>0.00</td>\n",
       "      <td>2</td>\n",
       "      <td>54</td>\n",
       "    </tr>\n",
       "    <tr>\n",
       "      <th>168</th>\n",
       "      <td>Entire home/apt</td>\n",
       "      <td>40</td>\n",
       "      <td>2</td>\n",
       "      <td>0</td>\n",
       "      <td>0.00</td>\n",
       "      <td>1</td>\n",
       "      <td>365</td>\n",
       "    </tr>\n",
       "    <tr>\n",
       "      <th>169</th>\n",
       "      <td>Entire home/apt</td>\n",
       "      <td>61</td>\n",
       "      <td>3</td>\n",
       "      <td>6</td>\n",
       "      <td>0.50</td>\n",
       "      <td>21</td>\n",
       "      <td>363</td>\n",
       "    </tr>\n",
       "  </tbody>\n",
       "</table>\n",
       "<p>170 rows × 7 columns</p>\n",
       "</div>"
      ],
      "text/plain": [
       "           room_type  price  minimum_nights  number_of_reviews  \\\n",
       "0    Entire home/apt     40               2                111   \n",
       "1    Entire home/apt     23               2                 64   \n",
       "2    Entire home/apt     24               2                 13   \n",
       "3    Entire home/apt     24               1                130   \n",
       "4    Entire home/apt     32               3                108   \n",
       "..               ...    ...             ...                ...   \n",
       "165  Entire home/apt     32               1                 67   \n",
       "166  Entire home/apt     54               2                 31   \n",
       "167  Entire home/apt     62               1                  0   \n",
       "168  Entire home/apt     40               2                  0   \n",
       "169  Entire home/apt     61               3                  6   \n",
       "\n",
       "     reviews_per_month  calculated_host_listings_count  availability_365  \n",
       "0                 9.25                             106               365  \n",
       "1                 5.33                               6               170  \n",
       "2                 1.08                              22                31  \n",
       "3                10.83                               8                15  \n",
       "4                 9.00                              30               258  \n",
       "..                 ...                             ...               ...  \n",
       "165               5.58                              47                54  \n",
       "166               2.58                              14               114  \n",
       "167               0.00                               2                54  \n",
       "168               0.00                               1               365  \n",
       "169               0.50                              21               363  \n",
       "\n",
       "[170 rows x 7 columns]"
      ]
     },
     "execution_count": 43,
     "metadata": {},
     "output_type": "execute_result"
    }
   ],
   "source": [
    "#df = df.drop(columns=['neighbourhood'])\n",
    "#df = df.drop(columns=['city'])\n",
    "#df = df.drop(columns=['last_review'])\n",
    "#df = df[df[\"room_type\"]==\"Entire home/apt\"]\n",
    "#df = df.drop(columns=['room_type'])\n",
    "\n",
    "df"
   ]
  },
  {
   "cell_type": "code",
   "execution_count": 44,
   "metadata": {},
   "outputs": [
    {
     "data": {
      "text/plain": [
       "room_type                          object\n",
       "price                               int64\n",
       "minimum_nights                      int64\n",
       "number_of_reviews                   int64\n",
       "reviews_per_month                 float64\n",
       "calculated_host_listings_count      int64\n",
       "availability_365                    int64\n",
       "dtype: object"
      ]
     },
     "execution_count": 44,
     "metadata": {},
     "output_type": "execute_result"
    }
   ],
   "source": [
    "df.dtypes\n",
    "#df"
   ]
  },
  {
   "cell_type": "code",
   "execution_count": 45,
   "metadata": {},
   "outputs": [
    {
     "data": {
      "text/plain": [
       "<AxesSubplot:>"
      ]
     },
     "execution_count": 45,
     "metadata": {},
     "output_type": "execute_result"
    },
    {
     "data": {
      "image/png": "[encoded data removed]",
      "text/plain": [
       "<Figure size 432x288 with 1 Axes>"
      ]
     },
     "metadata": {
      "needs_background": "light"
     },
     "output_type": "display_data"
    }
   ],
   "source": [
    "df.price.hist()"
   ]
  },
  {
   "cell_type": "code",
   "execution_count": 46,
   "metadata": {},
   "outputs": [
    {
     "data": {
      "text/plain": [
       "<AxesSubplot:>"
      ]
     },
     "execution_count": 46,
     "metadata": {},
     "output_type": "execute_result"
    },
    {
     "data": {
      "image/png": "[encoded data removed]",
      "text/plain": [
       "<Figure size 432x288 with 1 Axes>"
      ]
     },
     "metadata": {
      "needs_background": "light"
     },
     "output_type": "display_data"
    }
   ],
   "source": [
    "np.log(df.price).hist()"
   ]
  },
  {
   "cell_type": "code",
   "execution_count": 7,
   "metadata": {},
   "outputs": [
    {
     "data": {
      "text/plain": [
       "<AxesSubplot:>"
      ]
     },
     "execution_count": 7,
     "metadata": {},
     "output_type": "execute_result"
    },
    {
     "data": {
      "image/png": "[encoded data removed]",
      "text/plain": [
       "<Figure size 432x288 with 1 Axes>"
      ]
     },
     "metadata": {
      "needs_background": "light"
     },
     "output_type": "display_data"
    }
   ],
   "source": [
    "df.availability_365.hist()"
   ]
  },
  {
   "cell_type": "code",
   "execution_count": 8,
   "metadata": {
    "scrolled": false
   },
   "outputs": [
    {
     "data": {
      "image/png": "[encoded data removed]",
      "text/plain": [
       "<Figure size 720x360 with 2 Axes>"
      ]
     },
     "metadata": {
      "needs_background": "light"
     },
     "output_type": "display_data"
    }
   ],
   "source": [
    "corrmat = df[df._get_numeric_data().columns].corr().round(7)\n",
    "f, ax = plt.subplots(figsize=(10, 5))\n",
    "sns.heatmap(corrmat, annot=True)\n",
    "plt.show()"
   ]
  },
  {
   "cell_type": "code",
   "execution_count": 47,
   "metadata": {},
   "outputs": [],
   "source": [
    "df.price=np.log(df.price)"
   ]
  },
  {
   "cell_type": "code",
   "execution_count": 10,
   "metadata": {
    "scrolled": true
   },
   "outputs": [
    {
     "data": {
      "image/png": "[encoded data removed]",
      "text/plain": [
       "<Figure size 1440x1080 with 2 Axes>"
      ]
     },
     "metadata": {
      "needs_background": "light"
     },
     "output_type": "display_data"
    }
   ],
   "source": [
    "corrmat = df[df._get_numeric_data().columns].corr().round(7)\n",
    "f, ax = plt.subplots(figsize=(20, 15))\n",
    "sns.heatmap(corrmat, annot=True)\n",
    "plt.show()"
   ]
  },
  {
   "cell_type": "code",
   "execution_count": 48,
   "metadata": {},
   "outputs": [
    {
     "data": {
      "text/html": [
       "<div>\n",
       "<style scoped>\n",
       "    .dataframe tbody tr th:only-of-type {\n",
       "        vertical-align: middle;\n",
       "    }\n",
       "\n",
       "    .dataframe tbody tr th {\n",
       "        vertical-align: top;\n",
       "    }\n",
       "\n",
       "    .dataframe thead th {\n",
       "        text-align: right;\n",
       "    }\n",
       "</style>\n",
       "<table border=\"1\" class=\"dataframe\">\n",
       "  <thead>\n",
       "    <tr style=\"text-align: right;\">\n",
       "      <th></th>\n",
       "      <th>room_type</th>\n",
       "      <th>price</th>\n",
       "      <th>minimum_nights</th>\n",
       "      <th>number_of_reviews</th>\n",
       "      <th>reviews_per_month</th>\n",
       "      <th>calculated_host_listings_count</th>\n",
       "      <th>availability_365</th>\n",
       "    </tr>\n",
       "  </thead>\n",
       "  <tbody>\n",
       "    <tr>\n",
       "      <th>0</th>\n",
       "      <td>0</td>\n",
       "      <td>3.688879</td>\n",
       "      <td>2</td>\n",
       "      <td>111</td>\n",
       "      <td>9.25</td>\n",
       "      <td>106</td>\n",
       "      <td>365</td>\n",
       "    </tr>\n",
       "    <tr>\n",
       "      <th>1</th>\n",
       "      <td>0</td>\n",
       "      <td>3.135494</td>\n",
       "      <td>2</td>\n",
       "      <td>64</td>\n",
       "      <td>5.33</td>\n",
       "      <td>6</td>\n",
       "      <td>170</td>\n",
       "    </tr>\n",
       "    <tr>\n",
       "      <th>2</th>\n",
       "      <td>0</td>\n",
       "      <td>3.178054</td>\n",
       "      <td>2</td>\n",
       "      <td>13</td>\n",
       "      <td>1.08</td>\n",
       "      <td>22</td>\n",
       "      <td>31</td>\n",
       "    </tr>\n",
       "    <tr>\n",
       "      <th>3</th>\n",
       "      <td>0</td>\n",
       "      <td>3.178054</td>\n",
       "      <td>1</td>\n",
       "      <td>130</td>\n",
       "      <td>10.83</td>\n",
       "      <td>8</td>\n",
       "      <td>15</td>\n",
       "    </tr>\n",
       "    <tr>\n",
       "      <th>4</th>\n",
       "      <td>0</td>\n",
       "      <td>3.465736</td>\n",
       "      <td>3</td>\n",
       "      <td>108</td>\n",
       "      <td>9.00</td>\n",
       "      <td>30</td>\n",
       "      <td>258</td>\n",
       "    </tr>\n",
       "  </tbody>\n",
       "</table>\n",
       "</div>"
      ],
      "text/plain": [
       "   room_type     price  minimum_nights  number_of_reviews  reviews_per_month  \\\n",
       "0          0  3.688879               2                111               9.25   \n",
       "1          0  3.135494               2                 64               5.33   \n",
       "2          0  3.178054               2                 13               1.08   \n",
       "3          0  3.178054               1                130              10.83   \n",
       "4          0  3.465736               3                108               9.00   \n",
       "\n",
       "   calculated_host_listings_count  availability_365  \n",
       "0                             106               365  \n",
       "1                               6               170  \n",
       "2                              22                31  \n",
       "3                               8                15  \n",
       "4                              30               258  "
      ]
     },
     "execution_count": 48,
     "metadata": {},
     "output_type": "execute_result"
    }
   ],
   "source": [
    "def encoding_char(df):\n",
    "    char_var = list(set(df.columns) - set(df._get_numeric_data().columns))\n",
    "    for col_names in char_var:\n",
    "        f = pd.factorize(df[col_names])\n",
    "        df[col_names] = pd.factorize(df[col_names])[0]\n",
    "    return(df)\n",
    "\n",
    "df = encoding_char(df)\n",
    "df.head()"
   ]
  },
  {
   "cell_type": "code",
   "execution_count": 49,
   "metadata": {},
   "outputs": [],
   "source": [
    "train, test = train_test_split(df, test_size=0.2, random_state=0)\n",
    "X_train = train.drop('price', axis=1)\n",
    "X_test = test.drop('price', axis=1)\n",
    "y_train = train.price\n",
    "y_test = test.price"
   ]
  },
  {
   "cell_type": "code",
   "execution_count": 57,
   "metadata": {},
   "outputs": [],
   "source": [
    "def metrics(X_train, X_test, y_train, y_test, y_pred, model):\n",
    "    MSE = [mean_squared_error(np.exp(y_train), np.exp(model.predict(X_train))), mean_squared_error(np.exp(y_test), np.exp(y_pred))]\n",
    "    RMSE = [np.sqrt(mean_squared_error(np.exp(y_train), np.exp(model.predict(X_train)))),np.sqrt(mean_squared_error(np.exp(y_test), np.exp(y_pred)))]\n",
    "    R2 = [model.score(X_train, np.exp(y_train)), model.score(X_test, np.exp(y_test))]\n",
    "    results = {'MSE': MSE, 'RMSE': RMSE, 'R2':R2}\n",
    "    return pd.DataFrame(results, index=['Train', 'Test'])\n",
    "\n",
    "def visualising(X_train, X_test, y_train, y_test, y_pred, model):\n",
    "    ### Training set ### \n",
    "    plt.scatter(X_train[['reviews_per_month']], np.exp(y_train), color = 'red')\n",
    "    plt.plot(X_train[['reviews_per_month']], np.exp(model.predict(X_train)), 'bo')\n",
    "    plt.title('Price vs Reviews per month (Training set) Kiev')\n",
    "    plt.xlabel('Reviews per month')\n",
    "    plt.ylabel('Price')\n",
    "    plt.show()\n",
    "    \n",
    "    ### Test set ### \n",
    "    plt.scatter(X_test[['reviews_per_month']], np.exp(y_test), color = 'red')\n",
    "    plt.plot(X_test[['reviews_per_month']], np.exp(y_pred), 'bo')\n",
    "    plt.title('Price vs Reviews per month (Test set) Kiev')\n",
    "    plt.xlabel('Reviews per month')\n",
    "    plt.ylabel('Price')\n",
    "    plt.show()\n"
   ]
  },
  {
   "cell_type": "code",
   "execution_count": 52,
   "metadata": {},
   "outputs": [
    {
     "data": {
      "text/plain": [
       "(array([ 6.96815443e-02, -1.12316432e-02,  7.60651445e-02, -9.18680966e-01,\n",
       "         1.12647134e-04, -3.31330763e-06]),\n",
       " 3.5892543949134703)"
      ]
     },
     "execution_count": 52,
     "metadata": {},
     "output_type": "execute_result"
    }
   ],
   "source": [
    "mr = LinearRegression().fit(X_train, y_train)\n",
    "mr.coef_, mr.intercept_"
   ]
  },
  {
   "cell_type": "code",
   "execution_count": 54,
   "metadata": {},
   "outputs": [
    {
     "data": {
      "text/html": [
       "<div>\n",
       "<style scoped>\n",
       "    .dataframe tbody tr th:only-of-type {\n",
       "        vertical-align: middle;\n",
       "    }\n",
       "\n",
       "    .dataframe tbody tr th {\n",
       "        vertical-align: top;\n",
       "    }\n",
       "\n",
       "    .dataframe thead th {\n",
       "        text-align: right;\n",
       "    }\n",
       "</style>\n",
       "<table border=\"1\" class=\"dataframe\">\n",
       "  <thead>\n",
       "    <tr style=\"text-align: right;\">\n",
       "      <th></th>\n",
       "      <th>MSE</th>\n",
       "      <th>RMSE</th>\n",
       "      <th>R2</th>\n",
       "    </tr>\n",
       "  </thead>\n",
       "  <tbody>\n",
       "    <tr>\n",
       "      <th>Train</th>\n",
       "      <td>104.66</td>\n",
       "      <td>10.23</td>\n",
       "      <td>-10.11</td>\n",
       "    </tr>\n",
       "    <tr>\n",
       "      <th>Test</th>\n",
       "      <td>87.17</td>\n",
       "      <td>9.34</td>\n",
       "      <td>-10.92</td>\n",
       "    </tr>\n",
       "  </tbody>\n",
       "</table>\n",
       "</div>"
      ],
      "text/plain": [
       "          MSE   RMSE     R2\n",
       "Train  104.66  10.23 -10.11\n",
       "Test    87.17   9.34 -10.92"
      ]
     },
     "execution_count": 54,
     "metadata": {},
     "output_type": "execute_result"
    }
   ],
   "source": [
    "mr_y_pred = mr.predict(X_test)\n",
    "metric_lr = metrics(X_train, X_test, y_train, y_test, mr_y_pred, mr).round(2)\n",
    "metric_lr[\"Type\"] = \"Linear regression\"\n",
    "metric_lr[\"city\"] = \"Kiev\"\n",
    "metric_lr\n",
    "metrics(X_train, X_test, y_train, y_test, mr_y_pred, mr).round(2)"
   ]
  },
  {
   "cell_type": "code",
   "execution_count": 56,
   "metadata": {},
   "outputs": [
    {
     "data": {
      "image/png": "[encoded data removed]",
      "text/plain": [
       "<Figure size 432x288 with 1 Axes>"
      ]
     },
     "metadata": {
      "needs_background": "light"
     },
     "output_type": "display_data"
    },
    {
     "data": {
      "image/png": "[encoded data removed]",
      "text/plain": [
       "<Figure size 432x288 with 1 Axes>"
      ]
     },
     "metadata": {
      "needs_background": "light"
     },
     "output_type": "display_data"
    }
   ],
   "source": [
    "visualising(X_train, X_test, y_train, y_test, mr_y_pred, mr)"
   ]
  },
  {
   "cell_type": "code",
   "execution_count": 18,
   "metadata": {},
   "outputs": [
    {
     "data": {
      "text/html": [
       "<table class=\"simpletable\">\n",
       "<caption>OLS Regression Results</caption>\n",
       "<tr>\n",
       "  <th>Dep. Variable:</th>          <td>price</td>      <th>  R-squared:         </th> <td>   0.012</td>\n",
       "</tr>\n",
       "<tr>\n",
       "  <th>Model:</th>                   <td>OLS</td>       <th>  Adj. R-squared:    </th> <td>  -0.028</td>\n",
       "</tr>\n",
       "<tr>\n",
       "  <th>Method:</th>             <td>Least Squares</td>  <th>  F-statistic:       </th> <td>  0.2971</td>\n",
       "</tr>\n",
       "<tr>\n",
       "  <th>Date:</th>             <td>Sun, 14 Feb 2021</td> <th>  Prob (F-statistic):</th>  <td> 0.914</td> \n",
       "</tr>\n",
       "<tr>\n",
       "  <th>Time:</th>                 <td>13:59:45</td>     <th>  Log-Likelihood:    </th> <td> -9.6744</td>\n",
       "</tr>\n",
       "<tr>\n",
       "  <th>No. Observations:</th>      <td>   132</td>      <th>  AIC:               </th> <td>   31.35</td>\n",
       "</tr>\n",
       "<tr>\n",
       "  <th>Df Residuals:</th>          <td>   126</td>      <th>  BIC:               </th> <td>   48.65</td>\n",
       "</tr>\n",
       "<tr>\n",
       "  <th>Df Model:</th>              <td>     5</td>      <th>                     </th>     <td> </td>   \n",
       "</tr>\n",
       "<tr>\n",
       "  <th>Covariance Type:</th>      <td>nonrobust</td>    <th>                     </th>     <td> </td>   \n",
       "</tr>\n",
       "</table>\n",
       "<table class=\"simpletable\">\n",
       "<tr>\n",
       "                 <td></td>                   <th>coef</th>     <th>std err</th>      <th>t</th>      <th>P>|t|</th>  <th>[0.025</th>    <th>0.975]</th>  \n",
       "</tr>\n",
       "<tr>\n",
       "  <th>const</th>                          <td>    3.5534</td> <td>    0.054</td> <td>   66.406</td> <td> 0.000</td> <td>    3.447</td> <td>    3.659</td>\n",
       "</tr>\n",
       "<tr>\n",
       "  <th>minimum_nights</th>                 <td>   -0.0085</td> <td>    0.012</td> <td>   -0.697</td> <td> 0.487</td> <td>   -0.033</td> <td>    0.016</td>\n",
       "</tr>\n",
       "<tr>\n",
       "  <th>number_of_reviews</th>              <td>   -0.0550</td> <td>    0.784</td> <td>   -0.070</td> <td> 0.944</td> <td>   -1.606</td> <td>    1.497</td>\n",
       "</tr>\n",
       "<tr>\n",
       "  <th>reviews_per_month</th>              <td>    0.6562</td> <td>    9.409</td> <td>    0.070</td> <td> 0.945</td> <td>  -17.963</td> <td>   19.276</td>\n",
       "</tr>\n",
       "<tr>\n",
       "  <th>calculated_host_listings_count</th> <td>   -0.0003</td> <td>    0.001</td> <td>   -0.470</td> <td> 0.639</td> <td>   -0.002</td> <td>    0.001</td>\n",
       "</tr>\n",
       "<tr>\n",
       "  <th>availability_365</th>               <td>    0.0001</td> <td>    0.000</td> <td>    0.703</td> <td> 0.484</td> <td>   -0.000</td> <td>    0.000</td>\n",
       "</tr>\n",
       "</table>\n",
       "<table class=\"simpletable\">\n",
       "<tr>\n",
       "  <th>Omnibus:</th>       <td> 6.655</td> <th>  Durbin-Watson:     </th> <td>   1.942</td>\n",
       "</tr>\n",
       "<tr>\n",
       "  <th>Prob(Omnibus):</th> <td> 0.036</td> <th>  Jarque-Bera (JB):  </th> <td>   6.214</td>\n",
       "</tr>\n",
       "<tr>\n",
       "  <th>Skew:</th>          <td> 0.474</td> <th>  Prob(JB):          </th> <td>  0.0447</td>\n",
       "</tr>\n",
       "<tr>\n",
       "  <th>Kurtosis:</th>      <td> 3.480</td> <th>  Cond. No.          </th> <td>1.01e+05</td>\n",
       "</tr>\n",
       "</table><br/><br/>Notes:<br/>[1] Standard Errors assume that the covariance matrix of the errors is correctly specified.<br/>[2] The condition number is large, 1.01e+05. This might indicate that there are<br/>strong multicollinearity or other numerical problems."
      ],
      "text/plain": [
       "<class 'statsmodels.iolib.summary.Summary'>\n",
       "\"\"\"\n",
       "                            OLS Regression Results                            \n",
       "==============================================================================\n",
       "Dep. Variable:                  price   R-squared:                       0.012\n",
       "Model:                            OLS   Adj. R-squared:                 -0.028\n",
       "Method:                 Least Squares   F-statistic:                    0.2971\n",
       "Date:                Sun, 14 Feb 2021   Prob (F-statistic):              0.914\n",
       "Time:                        13:59:45   Log-Likelihood:                -9.6744\n",
       "No. Observations:                 132   AIC:                             31.35\n",
       "Df Residuals:                     126   BIC:                             48.65\n",
       "Df Model:                           5                                         \n",
       "Covariance Type:            nonrobust                                         \n",
       "==================================================================================================\n",
       "                                     coef    std err          t      P>|t|      [0.025      0.975]\n",
       "--------------------------------------------------------------------------------------------------\n",
       "const                              3.5534      0.054     66.406      0.000       3.447       3.659\n",
       "minimum_nights                    -0.0085      0.012     -0.697      0.487      -0.033       0.016\n",
       "number_of_reviews                 -0.0550      0.784     -0.070      0.944      -1.606       1.497\n",
       "reviews_per_month                  0.6562      9.409      0.070      0.945     -17.963      19.276\n",
       "calculated_host_listings_count    -0.0003      0.001     -0.470      0.639      -0.002       0.001\n",
       "availability_365                   0.0001      0.000      0.703      0.484      -0.000       0.000\n",
       "==============================================================================\n",
       "Omnibus:                        6.655   Durbin-Watson:                   1.942\n",
       "Prob(Omnibus):                  0.036   Jarque-Bera (JB):                6.214\n",
       "Skew:                           0.474   Prob(JB):                       0.0447\n",
       "Kurtosis:                       3.480   Cond. No.                     1.01e+05\n",
       "==============================================================================\n",
       "\n",
       "Notes:\n",
       "[1] Standard Errors assume that the covariance matrix of the errors is correctly specified.\n",
       "[2] The condition number is large, 1.01e+05. This might indicate that there are\n",
       "strong multicollinearity or other numerical problems.\n",
       "\"\"\""
      ]
     },
     "execution_count": 18,
     "metadata": {},
     "output_type": "execute_result"
    }
   ],
   "source": [
    "X = sm.add_constant(X_train)\n",
    "mr1 = sm.OLS(y_train, X).fit()\n",
    "#mr1.pvalues\n",
    "mr1.summary()"
   ]
  },
  {
   "cell_type": "code",
   "execution_count": 19,
   "metadata": {
    "scrolled": true
   },
   "outputs": [
    {
     "data": {
      "text/html": [
       "<div>\n",
       "<style scoped>\n",
       "    .dataframe tbody tr th:only-of-type {\n",
       "        vertical-align: middle;\n",
       "    }\n",
       "\n",
       "    .dataframe tbody tr th {\n",
       "        vertical-align: top;\n",
       "    }\n",
       "\n",
       "    .dataframe thead th {\n",
       "        text-align: right;\n",
       "    }\n",
       "</style>\n",
       "<table border=\"1\" class=\"dataframe\">\n",
       "  <thead>\n",
       "    <tr style=\"text-align: right;\">\n",
       "      <th></th>\n",
       "      <th>minimum_nights</th>\n",
       "      <th>availability_365</th>\n",
       "    </tr>\n",
       "  </thead>\n",
       "  <tbody>\n",
       "    <tr>\n",
       "      <th>108</th>\n",
       "      <td>1</td>\n",
       "      <td>365</td>\n",
       "    </tr>\n",
       "    <tr>\n",
       "      <th>24</th>\n",
       "      <td>1</td>\n",
       "      <td>365</td>\n",
       "    </tr>\n",
       "    <tr>\n",
       "      <th>154</th>\n",
       "      <td>1</td>\n",
       "      <td>280</td>\n",
       "    </tr>\n",
       "    <tr>\n",
       "      <th>155</th>\n",
       "      <td>1</td>\n",
       "      <td>214</td>\n",
       "    </tr>\n",
       "    <tr>\n",
       "      <th>19</th>\n",
       "      <td>2</td>\n",
       "      <td>189</td>\n",
       "    </tr>\n",
       "    <tr>\n",
       "      <th>...</th>\n",
       "      <td>...</td>\n",
       "      <td>...</td>\n",
       "    </tr>\n",
       "    <tr>\n",
       "      <th>9</th>\n",
       "      <td>3</td>\n",
       "      <td>91</td>\n",
       "    </tr>\n",
       "    <tr>\n",
       "      <th>104</th>\n",
       "      <td>1</td>\n",
       "      <td>365</td>\n",
       "    </tr>\n",
       "    <tr>\n",
       "      <th>68</th>\n",
       "      <td>2</td>\n",
       "      <td>70</td>\n",
       "    </tr>\n",
       "    <tr>\n",
       "      <th>118</th>\n",
       "      <td>4</td>\n",
       "      <td>339</td>\n",
       "    </tr>\n",
       "    <tr>\n",
       "      <th>48</th>\n",
       "      <td>2</td>\n",
       "      <td>52</td>\n",
       "    </tr>\n",
       "  </tbody>\n",
       "</table>\n",
       "<p>132 rows × 2 columns</p>\n",
       "</div>"
      ],
      "text/plain": [
       "     minimum_nights  availability_365\n",
       "108               1               365\n",
       "24                1               365\n",
       "154               1               280\n",
       "155               1               214\n",
       "19                2               189\n",
       "..              ...               ...\n",
       "9                 3                91\n",
       "104               1               365\n",
       "68                2                70\n",
       "118               4               339\n",
       "48                2                52\n",
       "\n",
       "[132 rows x 2 columns]"
      ]
     },
     "execution_count": 19,
     "metadata": {},
     "output_type": "execute_result"
    }
   ],
   "source": [
    "X_train_opt = X_train.drop(columns=[\"number_of_reviews\", \"calculated_host_listings_count\",\"reviews_per_month\"])\n",
    "X_test_opt = X_test.drop(columns=[\"number_of_reviews\", \"calculated_host_listings_count\",\"reviews_per_month\"])\n",
    "X_train_opt"
   ]
  },
  {
   "cell_type": "code",
   "execution_count": 20,
   "metadata": {},
   "outputs": [
    {
     "data": {
      "text/plain": [
       "(array([-6.43547324e-03,  7.51785685e-05]), 3.532892667623979)"
      ]
     },
     "execution_count": 20,
     "metadata": {},
     "output_type": "execute_result"
    }
   ],
   "source": [
    "mr = LinearRegression().fit(X_train_opt, y_train)\n",
    "mr.coef_, mr.intercept_"
   ]
  },
  {
   "cell_type": "code",
   "execution_count": 21,
   "metadata": {},
   "outputs": [
    {
     "data": {
      "text/html": [
       "<div>\n",
       "<style scoped>\n",
       "    .dataframe tbody tr th:only-of-type {\n",
       "        vertical-align: middle;\n",
       "    }\n",
       "\n",
       "    .dataframe tbody tr th {\n",
       "        vertical-align: top;\n",
       "    }\n",
       "\n",
       "    .dataframe thead th {\n",
       "        text-align: right;\n",
       "    }\n",
       "</style>\n",
       "<table border=\"1\" class=\"dataframe\">\n",
       "  <thead>\n",
       "    <tr style=\"text-align: right;\">\n",
       "      <th></th>\n",
       "      <th>MSE</th>\n",
       "      <th>RMSE</th>\n",
       "      <th>R2</th>\n",
       "    </tr>\n",
       "  </thead>\n",
       "  <tbody>\n",
       "    <tr>\n",
       "      <th>Train</th>\n",
       "      <td>103.23</td>\n",
       "      <td>10.16</td>\n",
       "      <td>0.0</td>\n",
       "    </tr>\n",
       "    <tr>\n",
       "      <th>Test</th>\n",
       "      <td>112.13</td>\n",
       "      <td>10.59</td>\n",
       "      <td>0.0</td>\n",
       "    </tr>\n",
       "  </tbody>\n",
       "</table>\n",
       "</div>"
      ],
      "text/plain": [
       "          MSE   RMSE   R2\n",
       "Train  103.23  10.16  0.0\n",
       "Test   112.13  10.59  0.0"
      ]
     },
     "execution_count": 21,
     "metadata": {},
     "output_type": "execute_result"
    }
   ],
   "source": [
    "mr_y_pred = mr.predict(X_test_opt)\n",
    "metrics(X_train_opt, X_test_opt, y_train, y_test, mr_y_pred, mr).round(2)"
   ]
  },
  {
   "cell_type": "code",
   "execution_count": 22,
   "metadata": {},
   "outputs": [
    {
     "data": {
      "image/png": "[encoded data removed]",
      "text/plain": [
       "<Figure size 432x288 with 1 Axes>"
      ]
     },
     "metadata": {
      "needs_background": "light"
     },
     "output_type": "display_data"
    },
    {
     "data": {
      "image/png": "[encoded data removed]",
      "text/plain": [
       "<Figure size 432x288 with 1 Axes>"
      ]
     },
     "metadata": {
      "needs_background": "light"
     },
     "output_type": "display_data"
    }
   ],
   "source": [
    "\n",
    "def visualising_opt(X_train, X_test, y_train, y_test, y_pred, model):\n",
    "    ### Training set ### \n",
    "    plt.scatter(X_train[['availability_365']], np.exp(y_train), color = 'red')\n",
    "    plt.plot(X_train[['availability_365']], np.exp(model.predict(X_train)), 'bo')\n",
    "    plt.title('Price vs Reviews per month (Training set) Kiev')\n",
    "    plt.xlabel('availability_365')\n",
    "    plt.ylabel('Price')\n",
    "    plt.show()\n",
    "    \n",
    "    ### Test set ### \n",
    "    plt.scatter(X_test[['availability_365']], np.exp(y_test), color = 'red')\n",
    "    plt.plot(X_test[['availability_365']], np.exp(y_pred), 'bo')\n",
    "    plt.title('Price vs availability_365 (Test set) Kiev')\n",
    "    plt.xlabel('availability_365')\n",
    "    plt.ylabel('Price')\n",
    "    plt.show()\n",
    "    \n",
    "    \n",
    "visualising_opt(X_train_opt, X_test_opt, y_train, y_test, mr_y_pred, mr)"
   ]
  },
  {
   "cell_type": "code",
   "execution_count": 23,
   "metadata": {},
   "outputs": [
    {
     "data": {
      "image/png": "[encoded data removed]",
      "text/plain": [
       "<Figure size 576x288 with 1 Axes>"
      ]
     },
     "metadata": {
      "needs_background": "light"
     },
     "output_type": "display_data"
    }
   ],
   "source": [
    "def max_depth(X_train, X_test, y_train, y_test, n):\n",
    "    mse_train = []\n",
    "    mse_test = []\n",
    "    for i in n:\n",
    "        rf = DecisionTreeRegressor(max_depth = i, random_state=10).fit(X_train, y_train)\n",
    "        mse_train.append(mean_squared_error(np.exp(y_train), np.exp(rf.predict(X_train))))\n",
    "        mse_test.append(mean_squared_error(np.exp(y_test), np.exp(rf.predict(X_test))))\n",
    "    fig, ax = plt.subplots(figsize=(8, 4))\n",
    "    ax.plot(n, mse_train, alpha=0.5, color='blue', label='train')\n",
    "    ax.plot(n, mse_test, alpha=0.5, color='red', label='test')\n",
    "    ax.set_ylabel(\"MSE\")\n",
    "    ax.set_xlabel(\"max_depth\")\n",
    "    ax.legend(framealpha=1, frameon=True);\n",
    "\n",
    "    \n",
    "max_depth(X_train, X_test, y_train, y_test, list(range(1,15)))"
   ]
  },
  {
   "cell_type": "code",
   "execution_count": 24,
   "metadata": {},
   "outputs": [
    {
     "data": {
      "text/html": [
       "<div>\n",
       "<style scoped>\n",
       "    .dataframe tbody tr th:only-of-type {\n",
       "        vertical-align: middle;\n",
       "    }\n",
       "\n",
       "    .dataframe tbody tr th {\n",
       "        vertical-align: top;\n",
       "    }\n",
       "\n",
       "    .dataframe thead th {\n",
       "        text-align: right;\n",
       "    }\n",
       "</style>\n",
       "<table border=\"1\" class=\"dataframe\">\n",
       "  <thead>\n",
       "    <tr style=\"text-align: right;\">\n",
       "      <th></th>\n",
       "      <th>MSE</th>\n",
       "      <th>RMSE</th>\n",
       "      <th>R2</th>\n",
       "      <th>Type</th>\n",
       "      <th>city</th>\n",
       "    </tr>\n",
       "  </thead>\n",
       "  <tbody>\n",
       "    <tr>\n",
       "      <th>Train</th>\n",
       "      <td>92.95</td>\n",
       "      <td>9.64</td>\n",
       "      <td>0.09</td>\n",
       "      <td>Decision tree</td>\n",
       "      <td>Kiev</td>\n",
       "    </tr>\n",
       "    <tr>\n",
       "      <th>Test</th>\n",
       "      <td>106.74</td>\n",
       "      <td>10.33</td>\n",
       "      <td>0.05</td>\n",
       "      <td>Decision tree</td>\n",
       "      <td>Kiev</td>\n",
       "    </tr>\n",
       "  </tbody>\n",
       "</table>\n",
       "</div>"
      ],
      "text/plain": [
       "          MSE   RMSE    R2           Type  city\n",
       "Train   92.95   9.64  0.09  Decision tree  Kiev\n",
       "Test   106.74  10.33  0.05  Decision tree  Kiev"
      ]
     },
     "execution_count": 24,
     "metadata": {},
     "output_type": "execute_result"
    }
   ],
   "source": [
    "dt = DecisionTreeRegressor(max_depth = 2, random_state=10).fit(X_train, y_train)\n",
    "dt_y_pred = dt.predict(X_test)\n",
    "metrics(X_train, X_test, y_train, y_test, dt_y_pred, dt).round(2).abs()\n",
    "metric_dt = metrics(X_train, X_test, y_train,y_test, dt_y_pred, dt).round(2).abs()\n",
    "metric_dt[\"Type\"] = \"Decision tree\"\n",
    "metric_dt[\"city\"] = \"Kiev\"\n",
    "metric_dt"
   ]
  },
  {
   "cell_type": "code",
   "execution_count": 39,
   "metadata": {},
   "outputs": [
    {
     "data": {
      "text/plain": [
       "<sklearn.tree._tree.Tree at 0x1b8fa53f1f0>"
      ]
     },
     "execution_count": 39,
     "metadata": {},
     "output_type": "execute_result"
    }
   ],
   "source": [
    "dt.tree_"
   ]
  },
  {
   "cell_type": "code",
   "execution_count": 25,
   "metadata": {},
   "outputs": [
    {
     "data": {
      "image/png": "[encoded data removed]",
      "text/plain": [
       "<Figure size 432x288 with 1 Axes>"
      ]
     },
     "metadata": {
      "needs_background": "light"
     },
     "output_type": "display_data"
    },
    {
     "data": {
      "image/png": "[encoded data removed]",
      "text/plain": [
       "<Figure size 432x288 with 1 Axes>"
      ]
     },
     "metadata": {
      "needs_background": "light"
     },
     "output_type": "display_data"
    }
   ],
   "source": [
    "visualising(X_train, X_test, y_train, y_test, dt_y_pred, dt)"
   ]
  },
  {
   "cell_type": "code",
   "execution_count": 116,
   "metadata": {},
   "outputs": [
    {
     "data": {
      "text/plain": [
       "Text(0.5, 1.0, 'Decision Tree. Feature Importance. Kiev')"
      ]
     },
     "execution_count": 116,
     "metadata": {},
     "output_type": "execute_result"
    },
    {
     "data": {
      "image/png": "[encoded data removed]",
      "text/plain": [
       "<Figure size 720x504 with 1 Axes>"
      ]
     },
     "metadata": {
      "needs_background": "light"
     },
     "output_type": "display_data"
    }
   ],
   "source": [
    "dt_imp = pd.DataFrame({'imp': dt.feature_importances_, 'variables': X_train.columns})\n",
    "dt_imp = dt_imp.sort_values(['imp', 'variables'], ascending=[True, False]).iloc[-30:]\n",
    "dt_imp.plot(kind='barh', x='variables', y='imp', figsize=(10, 7), legend=None)\n",
    "plt.title('Decision Tree. Feature Importance. Kiev')"
   ]
  },
  {
   "cell_type": "code",
   "execution_count": 118,
   "metadata": {},
   "outputs": [
    {
     "data": {
      "image/png": "[encoded data removed]",
      "text/plain": [
       "<Figure size 576x288 with 1 Axes>"
      ]
     },
     "metadata": {
      "needs_background": "light"
     },
     "output_type": "display_data"
    }
   ],
   "source": [
    "def rf_best_n_estimator(X_train, X_test, y_train, y_test, n):\n",
    "    mse_train = []\n",
    "    mse_test = []\n",
    "    for i in n:\n",
    "        rf = RandomForestRegressor(n_estimators=i, random_state=10).fit(X_train, y_train)\n",
    "        mse_train.append(mean_squared_error(np.exp(y_train), np.exp(rf.predict(X_train))))\n",
    "        mse_test.append(mean_squared_error(np.exp(y_test), np.exp(rf.predict(X_test))))\n",
    "    fig, ax = plt.subplots(figsize=(8, 4))\n",
    "    ax.plot(n, mse_train, alpha=0.5, color='blue', label='train')\n",
    "    ax.plot(n, mse_test, alpha=0.5, color='red', label='test')\n",
    "    ax.set_ylabel(\"MSE\")\n",
    "    ax.set_xlabel(\"N_estimators\")\n",
    "    ax.legend(framealpha=1, frameon=True);\n",
    "\n",
    "    \n",
    "rf_best_n_estimator(X_train, X_test, y_train, y_test, list(range(1,20)))"
   ]
  },
  {
   "cell_type": "code",
   "execution_count": 119,
   "metadata": {},
   "outputs": [
    {
     "data": {
      "image/png": "[encoded data removed]",
      "text/plain": [
       "<Figure size 576x288 with 1 Axes>"
      ]
     },
     "metadata": {
      "needs_background": "light"
     },
     "output_type": "display_data"
    }
   ],
   "source": [
    "def rf_max_depth(X_train, X_test, y_train, y_test, n):\n",
    "    mse_train = []\n",
    "    mse_test = []\n",
    "    for i in n:\n",
    "        rf = RandomForestRegressor(n_estimators=7, max_depth =i, random_state=10).fit(X_train, y_train)\n",
    "        mse_train.append(mean_squared_error(np.exp(y_train), np.exp(rf.predict(X_train))))\n",
    "        mse_test.append(mean_squared_error(np.exp(y_test), np.exp(rf.predict(X_test))))\n",
    "    fig, ax = plt.subplots(figsize=(8, 4))\n",
    "    ax.plot(n, mse_train, alpha=0.5, color='blue', label='train')\n",
    "    ax.plot(n, mse_test, alpha=0.5, color='red', label='test')\n",
    "    ax.set_ylabel(\"MSE\")\n",
    "    ax.set_xlabel(\"max_depth\")\n",
    "    ax.legend(framealpha=1, frameon=True);\n",
    "\n",
    "    \n",
    "rf_max_depth(X_train, X_test, y_train, y_test, list(range(1,15)))"
   ]
  },
  {
   "cell_type": "code",
   "execution_count": 26,
   "metadata": {},
   "outputs": [
    {
     "data": {
      "text/html": [
       "<div>\n",
       "<style scoped>\n",
       "    .dataframe tbody tr th:only-of-type {\n",
       "        vertical-align: middle;\n",
       "    }\n",
       "\n",
       "    .dataframe tbody tr th {\n",
       "        vertical-align: top;\n",
       "    }\n",
       "\n",
       "    .dataframe thead th {\n",
       "        text-align: right;\n",
       "    }\n",
       "</style>\n",
       "<table border=\"1\" class=\"dataframe\">\n",
       "  <thead>\n",
       "    <tr style=\"text-align: right;\">\n",
       "      <th></th>\n",
       "      <th>MSE</th>\n",
       "      <th>RMSE</th>\n",
       "      <th>R2</th>\n",
       "      <th>Type</th>\n",
       "      <th>city</th>\n",
       "    </tr>\n",
       "  </thead>\n",
       "  <tbody>\n",
       "    <tr>\n",
       "      <th>Train</th>\n",
       "      <td>79.39</td>\n",
       "      <td>8.91</td>\n",
       "      <td>0.25</td>\n",
       "      <td>Random forest</td>\n",
       "      <td>Kiev</td>\n",
       "    </tr>\n",
       "    <tr>\n",
       "      <th>Test</th>\n",
       "      <td>122.12</td>\n",
       "      <td>11.05</td>\n",
       "      <td>0.12</td>\n",
       "      <td>Random forest</td>\n",
       "      <td>Kiev</td>\n",
       "    </tr>\n",
       "  </tbody>\n",
       "</table>\n",
       "</div>"
      ],
      "text/plain": [
       "          MSE   RMSE    R2           Type  city\n",
       "Train   79.39   8.91  0.25  Random forest  Kiev\n",
       "Test   122.12  11.05  0.12  Random forest  Kiev"
      ]
     },
     "execution_count": 26,
     "metadata": {},
     "output_type": "execute_result"
    }
   ],
   "source": [
    "rf = RandomForestRegressor(n_estimators = 7, max_depth = 3, random_state = 10).fit(X_train, y_train)\n",
    "rf_y_pred = rf.predict(X_test)\n",
    "metrics(X_train, X_test, y_train, y_test, rf_y_pred, rf).round(2).abs()\n",
    "metric_rf = metrics(X_train, X_test, y_train,y_test,  rf_y_pred, rf).round(2).abs()\n",
    "metric_rf[\"Type\"] = \"Random forest\"\n",
    "metric_rf[\"city\"] = \"Kiev\"\n",
    "metric_rf"
   ]
  },
  {
   "cell_type": "code",
   "execution_count": 27,
   "metadata": {},
   "outputs": [
    {
     "data": {
      "image/png": "[encoded data removed]",
      "text/plain": [
       "<Figure size 432x288 with 1 Axes>"
      ]
     },
     "metadata": {
      "needs_background": "light"
     },
     "output_type": "display_data"
    },
    {
     "data": {
      "image/png": "[encoded data removed]",
      "text/plain": [
       "<Figure size 432x288 with 1 Axes>"
      ]
     },
     "metadata": {
      "needs_background": "light"
     },
     "output_type": "display_data"
    }
   ],
   "source": [
    "visualising(X_train, X_test, y_train, y_test, rf_y_pred, rf)"
   ]
  },
  {
   "cell_type": "code",
   "execution_count": 122,
   "metadata": {},
   "outputs": [
    {
     "data": {
      "text/plain": [
       "Text(0.5, 1.0, 'Random Forest. Feature Importance. Kiev')"
      ]
     },
     "execution_count": 122,
     "metadata": {},
     "output_type": "execute_result"
    },
    {
     "data": {
      "image/png": "[encoded data removed]",
      "text/plain": [
       "<Figure size 720x504 with 1 Axes>"
      ]
     },
     "metadata": {
      "needs_background": "light"
     },
     "output_type": "display_data"
    }
   ],
   "source": [
    "rf_imp = pd.DataFrame({'imp': rf.feature_importances_, 'variables': X_train.columns})\n",
    "rf_imp = rf_imp.sort_values(['imp', 'variables'], ascending=[True, False]).iloc[-30:]\n",
    "rf_imp.plot(kind='barh', x='variables', y='imp', figsize=(10, 7), legend=None)\n",
    "plt.title('Random Forest. Feature Importance. Kiev')"
   ]
  },
  {
   "cell_type": "code",
   "execution_count": 125,
   "metadata": {},
   "outputs": [
    {
     "data": {
      "image/png": "[encoded data removed]",
      "text/plain": [
       "<Figure size 576x288 with 1 Axes>"
      ]
     },
     "metadata": {
      "needs_background": "light"
     },
     "output_type": "display_data"
    }
   ],
   "source": [
    "def catboost_best_n_estimator(X_train, X_test, y_train, y_test, n):\n",
    "    mse_train = []\n",
    "    mse_test = []\n",
    "    for i in n:\n",
    "        catboost = CatBoostRegressor(iterations=i, random_state=10, eval_metric='RMSE', loss_function='RMSE').fit(X_train, y_train,\n",
    "                                                                                                                 eval_set=(X_test, y_test),\n",
    "                                                                                                                  logging_level='Silent')\n",
    "        mse_train.append(mean_squared_error(np.exp(y_train), np.exp(catboost.predict(X_train))))\n",
    "        mse_test.append(mean_squared_error(np.exp(y_test), np.exp(catboost.predict(X_test))))\n",
    "    fig, ax = plt.subplots(figsize=(8, 4))\n",
    "    ax.plot(n, mse_train, alpha=0.5, color='blue', label='train')\n",
    "    ax.plot(n, mse_test, alpha=0.5, color='red', label='test')\n",
    "    ax.set_ylabel(\"MSE\")\n",
    "    ax.set_xlabel(\"N_estimators\")\n",
    "    ax.legend(framealpha=1, frameon=True);\n",
    "\n",
    "    \n",
    "catboost_best_n_estimator(X_train, X_test, y_train, y_test, list(range(1,13)))\n",
    "\n"
   ]
  },
  {
   "cell_type": "code",
   "execution_count": 126,
   "metadata": {},
   "outputs": [
    {
     "data": {
      "image/png": "[encoded data removed]",
      "text/plain": [
       "<Figure size 576x288 with 1 Axes>"
      ]
     },
     "metadata": {
      "needs_background": "light"
     },
     "output_type": "display_data"
    }
   ],
   "source": [
    "def catboost_max_depth(X_train, X_test, y_train, y_test, n):\n",
    "    mse_train = []\n",
    "    mse_test = []\n",
    "    for i in n:\n",
    "        catboost = CatBoostRegressor(iterations=2, max_depth=i, random_state=10, eval_metric='RMSE', loss_function='RMSE').fit(X_train, y_train,\n",
    "                                                                                                                 eval_set=(X_test, y_test),\n",
    "                                                                                                                  logging_level='Silent')\n",
    "        mse_train.append(mean_squared_error(np.exp(y_train), np.exp(catboost.predict(X_train))))\n",
    "        mse_test.append(mean_squared_error(np.exp(y_test), np.exp(catboost.predict(X_test))))\n",
    "    fig, ax = plt.subplots(figsize=(8, 4))\n",
    "    ax.plot(n, mse_train, alpha=0.5, color='blue', label='train')\n",
    "    ax.plot(n, mse_test, alpha=0.5, color='red', label='test')\n",
    "    ax.set_ylabel(\"MSE\")\n",
    "    ax.set_xlabel(\"max_depth\")\n",
    "    ax.legend(framealpha=1, frameon=True);\n",
    "\n",
    "    \n",
    "catboost_max_depth(X_train, X_test, y_train, y_test, list(range(1,15)))"
   ]
  },
  {
   "cell_type": "code",
   "execution_count": 29,
   "metadata": {},
   "outputs": [
    {
     "data": {
      "text/html": [
       "<div>\n",
       "<style scoped>\n",
       "    .dataframe tbody tr th:only-of-type {\n",
       "        vertical-align: middle;\n",
       "    }\n",
       "\n",
       "    .dataframe tbody tr th {\n",
       "        vertical-align: top;\n",
       "    }\n",
       "\n",
       "    .dataframe thead th {\n",
       "        text-align: right;\n",
       "    }\n",
       "</style>\n",
       "<table border=\"1\" class=\"dataframe\">\n",
       "  <thead>\n",
       "    <tr style=\"text-align: right;\">\n",
       "      <th></th>\n",
       "      <th>MSE</th>\n",
       "      <th>RMSE</th>\n",
       "      <th>R2</th>\n",
       "    </tr>\n",
       "  </thead>\n",
       "  <tbody>\n",
       "    <tr>\n",
       "      <th>Train</th>\n",
       "      <td>91.09</td>\n",
       "      <td>9.54</td>\n",
       "      <td>0.13</td>\n",
       "    </tr>\n",
       "    <tr>\n",
       "      <th>Test</th>\n",
       "      <td>103.74</td>\n",
       "      <td>10.19</td>\n",
       "      <td>0.10</td>\n",
       "    </tr>\n",
       "  </tbody>\n",
       "</table>\n",
       "</div>"
      ],
      "text/plain": [
       "          MSE   RMSE    R2\n",
       "Train   91.09   9.54  0.13\n",
       "Test   103.74  10.19  0.10"
      ]
     },
     "execution_count": 29,
     "metadata": {},
     "output_type": "execute_result"
    }
   ],
   "source": [
    "catboost = CatBoostRegressor(iterations=2, max_depth=5, random_state=10, eval_metric='RMSE', loss_function='RMSE').fit(X_train, y_train,\n",
    "                                                                                                                 eval_set=(X_test, y_test),\n",
    "                                                                                                                  logging_level='Silent')\n",
    "cat_y_pred = catboost.predict(X_test)\n",
    "metrics(X_train, X_test, y_train, y_test, cat_y_pred, catboost).round(2)"
   ]
  },
  {
   "cell_type": "code",
   "execution_count": 30,
   "metadata": {},
   "outputs": [
    {
     "data": {
      "text/html": [
       "<div>\n",
       "<style scoped>\n",
       "    .dataframe tbody tr th:only-of-type {\n",
       "        vertical-align: middle;\n",
       "    }\n",
       "\n",
       "    .dataframe tbody tr th {\n",
       "        vertical-align: top;\n",
       "    }\n",
       "\n",
       "    .dataframe thead th {\n",
       "        text-align: right;\n",
       "    }\n",
       "</style>\n",
       "<table border=\"1\" class=\"dataframe\">\n",
       "  <thead>\n",
       "    <tr style=\"text-align: right;\">\n",
       "      <th></th>\n",
       "      <th>MSE</th>\n",
       "      <th>RMSE</th>\n",
       "      <th>R2</th>\n",
       "      <th>Type</th>\n",
       "      <th>city</th>\n",
       "    </tr>\n",
       "  </thead>\n",
       "  <tbody>\n",
       "    <tr>\n",
       "      <th>Train</th>\n",
       "      <td>91.09</td>\n",
       "      <td>9.54</td>\n",
       "      <td>0.13</td>\n",
       "      <td>Catboost</td>\n",
       "      <td>Kiev</td>\n",
       "    </tr>\n",
       "    <tr>\n",
       "      <th>Test</th>\n",
       "      <td>103.74</td>\n",
       "      <td>10.19</td>\n",
       "      <td>0.10</td>\n",
       "      <td>Catboost</td>\n",
       "      <td>Kiev</td>\n",
       "    </tr>\n",
       "  </tbody>\n",
       "</table>\n",
       "</div>"
      ],
      "text/plain": [
       "          MSE   RMSE    R2      Type  city\n",
       "Train   91.09   9.54  0.13  Catboost  Kiev\n",
       "Test   103.74  10.19  0.10  Catboost  Kiev"
      ]
     },
     "execution_count": 30,
     "metadata": {},
     "output_type": "execute_result"
    }
   ],
   "source": [
    "metric_cb = metrics(X_train, X_test, y_train,y_test, cat_y_pred, catboost).round(2)\n",
    "metric_cb[\"Type\"] = \"Catboost\"\n",
    "metric_cb[\"city\"] = \"Kiev\"\n",
    "metric_cb"
   ]
  },
  {
   "cell_type": "code",
   "execution_count": 145,
   "metadata": {},
   "outputs": [
    {
     "data": {
      "text/html": [
       "<div>\n",
       "<style scoped>\n",
       "    .dataframe tbody tr th:only-of-type {\n",
       "        vertical-align: middle;\n",
       "    }\n",
       "\n",
       "    .dataframe tbody tr th {\n",
       "        vertical-align: top;\n",
       "    }\n",
       "\n",
       "    .dataframe thead th {\n",
       "        text-align: right;\n",
       "    }\n",
       "</style>\n",
       "<table border=\"1\" class=\"dataframe\">\n",
       "  <thead>\n",
       "    <tr style=\"text-align: right;\">\n",
       "      <th></th>\n",
       "      <th>MSE</th>\n",
       "      <th>RMSE</th>\n",
       "      <th>R2</th>\n",
       "      <th>Type</th>\n",
       "      <th>city</th>\n",
       "    </tr>\n",
       "  </thead>\n",
       "  <tbody>\n",
       "    <tr>\n",
       "      <th>Train</th>\n",
       "      <td>102.45</td>\n",
       "      <td>10.12</td>\n",
       "      <td>0.01</td>\n",
       "      <td>Linear regression</td>\n",
       "      <td>Kiev</td>\n",
       "    </tr>\n",
       "    <tr>\n",
       "      <th>Test</th>\n",
       "      <td>109.78</td>\n",
       "      <td>10.48</td>\n",
       "      <td>0.02</td>\n",
       "      <td>Linear regression</td>\n",
       "      <td>Kiev</td>\n",
       "    </tr>\n",
       "    <tr>\n",
       "      <th>Train</th>\n",
       "      <td>92.95</td>\n",
       "      <td>9.64</td>\n",
       "      <td>0.09</td>\n",
       "      <td>Decision tree</td>\n",
       "      <td>Kiev</td>\n",
       "    </tr>\n",
       "    <tr>\n",
       "      <th>Test</th>\n",
       "      <td>106.74</td>\n",
       "      <td>10.33</td>\n",
       "      <td>0.05</td>\n",
       "      <td>Decision tree</td>\n",
       "      <td>Kiev</td>\n",
       "    </tr>\n",
       "    <tr>\n",
       "      <th>Train</th>\n",
       "      <td>79.39</td>\n",
       "      <td>8.91</td>\n",
       "      <td>0.25</td>\n",
       "      <td>Random forest</td>\n",
       "      <td>Kiev</td>\n",
       "    </tr>\n",
       "    <tr>\n",
       "      <th>Test</th>\n",
       "      <td>122.12</td>\n",
       "      <td>11.05</td>\n",
       "      <td>0.12</td>\n",
       "      <td>Random forest</td>\n",
       "      <td>Kiev</td>\n",
       "    </tr>\n",
       "    <tr>\n",
       "      <th>Train</th>\n",
       "      <td>91.09</td>\n",
       "      <td>9.54</td>\n",
       "      <td>0.13</td>\n",
       "      <td>Catboost</td>\n",
       "      <td>Kiev</td>\n",
       "    </tr>\n",
       "    <tr>\n",
       "      <th>Test</th>\n",
       "      <td>103.74</td>\n",
       "      <td>10.19</td>\n",
       "      <td>0.10</td>\n",
       "      <td>Catboost</td>\n",
       "      <td>Kiev</td>\n",
       "    </tr>\n",
       "  </tbody>\n",
       "</table>\n",
       "</div>"
      ],
      "text/plain": [
       "          MSE   RMSE    R2               Type  city\n",
       "Train  102.45  10.12  0.01  Linear regression  Kiev\n",
       "Test   109.78  10.48  0.02  Linear regression  Kiev\n",
       "Train   92.95   9.64  0.09      Decision tree  Kiev\n",
       "Test   106.74  10.33  0.05      Decision tree  Kiev\n",
       "Train   79.39   8.91  0.25      Random forest  Kiev\n",
       "Test   122.12  11.05  0.12      Random forest  Kiev\n",
       "Train   91.09   9.54  0.13           Catboost  Kiev\n",
       "Test   103.74  10.19  0.10           Catboost  Kiev"
      ]
     },
     "execution_count": 145,
     "metadata": {},
     "output_type": "execute_result"
    }
   ],
   "source": [
    "metric=pd.concat([metric_lr,metric_dt,metric_rf,metric_cb])\n",
    "metric"
   ]
  },
  {
   "cell_type": "code",
   "execution_count": 128,
   "metadata": {},
   "outputs": [
    {
     "data": {
      "image/png": "[encoded data removed]",
      "text/plain": [
       "<Figure size 432x288 with 1 Axes>"
      ]
     },
     "metadata": {
      "needs_background": "light"
     },
     "output_type": "display_data"
    },
    {
     "data": {
      "image/png": "[encoded data removed]",
      "text/plain": [
       "<Figure size 432x288 with 1 Axes>"
      ]
     },
     "metadata": {
      "needs_background": "light"
     },
     "output_type": "display_data"
    }
   ],
   "source": [
    "visualising(X_train, X_test, y_train, y_test, cat_y_pred, catboost)"
   ]
  },
  {
   "cell_type": "code",
   "execution_count": 129,
   "metadata": {},
   "outputs": [
    {
     "data": {
      "text/plain": [
       "Text(0.5, 1.0, 'Boosting. Feature Importance. Kiev')"
      ]
     },
     "execution_count": 129,
     "metadata": {},
     "output_type": "execute_result"
    },
    {
     "data": {
      "image/png": "[encoded data removed]",
      "text/plain": [
       "<Figure size 720x504 with 1 Axes>"
      ]
     },
     "metadata": {
      "needs_background": "light"
     },
     "output_type": "display_data"
    }
   ],
   "source": [
    "cb_imp = pd.DataFrame({'imp': catboost.get_feature_importance(), 'variables': X_train.columns})\n",
    "cb_imp = cb_imp.sort_values(['imp', 'variables'], ascending=[True, False]).iloc[-30:]\n",
    "cb_imp.plot(kind='barh', x='variables', y='imp', figsize=(10, 7), legend=None)\n",
    "plt.title('Boosting. Feature Importance. Kiev')"
   ]
  },
  {
   "cell_type": "code",
   "execution_count": 150,
   "metadata": {},
   "outputs": [],
   "source": [
    "metric_Kiev=pd.concat([metric_lr,metric_dt,metric_rf,metric_cb])\n",
    "metric_Kiev.to_csv(\"Metric_Kiev.csv\", index=True)\n",
    "metric_DC = pd.read_csv(\"Metric_DC.csv\")\n",
    "metric_Madrid = pd.read_csv(\"Metric_Madrid.csv\")"
   ]
  },
  {
   "cell_type": "code",
   "execution_count": 151,
   "metadata": {},
   "outputs": [],
   "source": [
    "metric_Kiev = pd.read_csv(\"Metric_Kiev.csv\")\n",
    "metric_DC = pd.read_csv(\"Metric_DC.csv\")\n",
    "metric_Madrid = pd.read_csv(\"Metric_Madrid.csv\")"
   ]
  },
  {
   "cell_type": "code",
   "execution_count": 154,
   "metadata": {},
   "outputs": [
    {
     "data": {
      "text/html": [
       "<div>\n",
       "<style scoped>\n",
       "    .dataframe tbody tr th:only-of-type {\n",
       "        vertical-align: middle;\n",
       "    }\n",
       "\n",
       "    .dataframe tbody tr th {\n",
       "        vertical-align: top;\n",
       "    }\n",
       "\n",
       "    .dataframe thead th {\n",
       "        text-align: right;\n",
       "    }\n",
       "</style>\n",
       "<table border=\"1\" class=\"dataframe\">\n",
       "  <thead>\n",
       "    <tr style=\"text-align: right;\">\n",
       "      <th></th>\n",
       "      <th>Subset</th>\n",
       "      <th>MSE</th>\n",
       "      <th>RMSE</th>\n",
       "      <th>R2</th>\n",
       "      <th>Type</th>\n",
       "      <th>city</th>\n",
       "    </tr>\n",
       "  </thead>\n",
       "  <tbody>\n",
       "    <tr>\n",
       "      <th>0</th>\n",
       "      <td>Train</td>\n",
       "      <td>102.45</td>\n",
       "      <td>10.12</td>\n",
       "      <td>0.01</td>\n",
       "      <td>Linear regression</td>\n",
       "      <td>Kiev</td>\n",
       "    </tr>\n",
       "    <tr>\n",
       "      <th>1</th>\n",
       "      <td>Test</td>\n",
       "      <td>109.78</td>\n",
       "      <td>10.48</td>\n",
       "      <td>0.02</td>\n",
       "      <td>Linear regression</td>\n",
       "      <td>Kiev</td>\n",
       "    </tr>\n",
       "    <tr>\n",
       "      <th>2</th>\n",
       "      <td>Train</td>\n",
       "      <td>92.95</td>\n",
       "      <td>9.64</td>\n",
       "      <td>0.09</td>\n",
       "      <td>Decision tree</td>\n",
       "      <td>Kiev</td>\n",
       "    </tr>\n",
       "    <tr>\n",
       "      <th>3</th>\n",
       "      <td>Test</td>\n",
       "      <td>106.74</td>\n",
       "      <td>10.33</td>\n",
       "      <td>0.05</td>\n",
       "      <td>Decision tree</td>\n",
       "      <td>Kiev</td>\n",
       "    </tr>\n",
       "    <tr>\n",
       "      <th>4</th>\n",
       "      <td>Train</td>\n",
       "      <td>79.39</td>\n",
       "      <td>8.91</td>\n",
       "      <td>0.25</td>\n",
       "      <td>Random forest</td>\n",
       "      <td>Kiev</td>\n",
       "    </tr>\n",
       "    <tr>\n",
       "      <th>5</th>\n",
       "      <td>Test</td>\n",
       "      <td>122.12</td>\n",
       "      <td>11.05</td>\n",
       "      <td>0.12</td>\n",
       "      <td>Random forest</td>\n",
       "      <td>Kiev</td>\n",
       "    </tr>\n",
       "    <tr>\n",
       "      <th>6</th>\n",
       "      <td>Train</td>\n",
       "      <td>91.09</td>\n",
       "      <td>9.54</td>\n",
       "      <td>0.13</td>\n",
       "      <td>Catboost</td>\n",
       "      <td>Kiev</td>\n",
       "    </tr>\n",
       "    <tr>\n",
       "      <th>7</th>\n",
       "      <td>Test</td>\n",
       "      <td>103.74</td>\n",
       "      <td>10.19</td>\n",
       "      <td>0.10</td>\n",
       "      <td>Catboost</td>\n",
       "      <td>Kiev</td>\n",
       "    </tr>\n",
       "    <tr>\n",
       "      <th>0</th>\n",
       "      <td>Train</td>\n",
       "      <td>4784.76</td>\n",
       "      <td>69.17</td>\n",
       "      <td>0.13</td>\n",
       "      <td>Linear regression</td>\n",
       "      <td>Washington, D.C.</td>\n",
       "    </tr>\n",
       "    <tr>\n",
       "      <th>1</th>\n",
       "      <td>Test</td>\n",
       "      <td>4777.81</td>\n",
       "      <td>69.12</td>\n",
       "      <td>0.17</td>\n",
       "      <td>Linear regression</td>\n",
       "      <td>Washington, D.C.</td>\n",
       "    </tr>\n",
       "    <tr>\n",
       "      <th>2</th>\n",
       "      <td>Train</td>\n",
       "      <td>4296.16</td>\n",
       "      <td>65.55</td>\n",
       "      <td>0.27</td>\n",
       "      <td>Decision tree</td>\n",
       "      <td>Washington, D.C.</td>\n",
       "    </tr>\n",
       "    <tr>\n",
       "      <th>3</th>\n",
       "      <td>Test</td>\n",
       "      <td>4301.46</td>\n",
       "      <td>65.59</td>\n",
       "      <td>0.28</td>\n",
       "      <td>Decision tree</td>\n",
       "      <td>Washington, D.C.</td>\n",
       "    </tr>\n",
       "    <tr>\n",
       "      <th>4</th>\n",
       "      <td>Train</td>\n",
       "      <td>4429.81</td>\n",
       "      <td>66.56</td>\n",
       "      <td>0.24</td>\n",
       "      <td>Random forest</td>\n",
       "      <td>Washington, D.C.</td>\n",
       "    </tr>\n",
       "    <tr>\n",
       "      <th>5</th>\n",
       "      <td>Test</td>\n",
       "      <td>4442.93</td>\n",
       "      <td>66.66</td>\n",
       "      <td>0.26</td>\n",
       "      <td>Random forest</td>\n",
       "      <td>Washington, D.C.</td>\n",
       "    </tr>\n",
       "    <tr>\n",
       "      <th>6</th>\n",
       "      <td>Train</td>\n",
       "      <td>4210.78</td>\n",
       "      <td>64.89</td>\n",
       "      <td>0.28</td>\n",
       "      <td>Catboost</td>\n",
       "      <td>Washington, D.C.</td>\n",
       "    </tr>\n",
       "    <tr>\n",
       "      <th>7</th>\n",
       "      <td>Test</td>\n",
       "      <td>4252.93</td>\n",
       "      <td>65.21</td>\n",
       "      <td>0.28</td>\n",
       "      <td>Catboost</td>\n",
       "      <td>Washington, D.C.</td>\n",
       "    </tr>\n",
       "    <tr>\n",
       "      <th>0</th>\n",
       "      <td>Train</td>\n",
       "      <td>947.77</td>\n",
       "      <td>30.79</td>\n",
       "      <td>0.40</td>\n",
       "      <td>Linear regression</td>\n",
       "      <td>Madrid</td>\n",
       "    </tr>\n",
       "    <tr>\n",
       "      <th>1</th>\n",
       "      <td>Test</td>\n",
       "      <td>810.84</td>\n",
       "      <td>28.48</td>\n",
       "      <td>0.46</td>\n",
       "      <td>Linear regression</td>\n",
       "      <td>Madrid</td>\n",
       "    </tr>\n",
       "    <tr>\n",
       "      <th>2</th>\n",
       "      <td>Train</td>\n",
       "      <td>774.50</td>\n",
       "      <td>27.83</td>\n",
       "      <td>0.58</td>\n",
       "      <td>Decision tree</td>\n",
       "      <td>Madrid</td>\n",
       "    </tr>\n",
       "    <tr>\n",
       "      <th>3</th>\n",
       "      <td>Test</td>\n",
       "      <td>765.33</td>\n",
       "      <td>27.66</td>\n",
       "      <td>0.55</td>\n",
       "      <td>Decision tree</td>\n",
       "      <td>Madrid</td>\n",
       "    </tr>\n",
       "    <tr>\n",
       "      <th>4</th>\n",
       "      <td>Train</td>\n",
       "      <td>735.17</td>\n",
       "      <td>27.11</td>\n",
       "      <td>0.61</td>\n",
       "      <td>Random forest</td>\n",
       "      <td>Madrid</td>\n",
       "    </tr>\n",
       "    <tr>\n",
       "      <th>5</th>\n",
       "      <td>Test</td>\n",
       "      <td>739.23</td>\n",
       "      <td>27.19</td>\n",
       "      <td>0.57</td>\n",
       "      <td>Random forest</td>\n",
       "      <td>Madrid</td>\n",
       "    </tr>\n",
       "    <tr>\n",
       "      <th>6</th>\n",
       "      <td>Train</td>\n",
       "      <td>744.88</td>\n",
       "      <td>27.29</td>\n",
       "      <td>0.61</td>\n",
       "      <td>Catboost</td>\n",
       "      <td>Madrid</td>\n",
       "    </tr>\n",
       "    <tr>\n",
       "      <th>7</th>\n",
       "      <td>Test</td>\n",
       "      <td>718.69</td>\n",
       "      <td>26.81</td>\n",
       "      <td>0.58</td>\n",
       "      <td>Catboost</td>\n",
       "      <td>Madrid</td>\n",
       "    </tr>\n",
       "  </tbody>\n",
       "</table>\n",
       "</div>"
      ],
      "text/plain": [
       "  Subset      MSE   RMSE    R2               Type              city\n",
       "0  Train   102.45  10.12  0.01  Linear regression              Kiev\n",
       "1   Test   109.78  10.48  0.02  Linear regression              Kiev\n",
       "2  Train    92.95   9.64  0.09      Decision tree              Kiev\n",
       "3   Test   106.74  10.33  0.05      Decision tree              Kiev\n",
       "4  Train    79.39   8.91  0.25      Random forest              Kiev\n",
       "5   Test   122.12  11.05  0.12      Random forest              Kiev\n",
       "6  Train    91.09   9.54  0.13           Catboost              Kiev\n",
       "7   Test   103.74  10.19  0.10           Catboost              Kiev\n",
       "0  Train  4784.76  69.17  0.13  Linear regression  Washington, D.C.\n",
       "1   Test  4777.81  69.12  0.17  Linear regression  Washington, D.C.\n",
       "2  Train  4296.16  65.55  0.27      Decision tree  Washington, D.C.\n",
       "3   Test  4301.46  65.59  0.28      Decision tree  Washington, D.C.\n",
       "4  Train  4429.81  66.56  0.24      Random forest  Washington, D.C.\n",
       "5   Test  4442.93  66.66  0.26      Random forest  Washington, D.C.\n",
       "6  Train  4210.78  64.89  0.28           Catboost  Washington, D.C.\n",
       "7   Test  4252.93  65.21  0.28           Catboost  Washington, D.C.\n",
       "0  Train   947.77  30.79  0.40  Linear regression            Madrid\n",
       "1   Test   810.84  28.48  0.46  Linear regression            Madrid\n",
       "2  Train   774.50  27.83  0.58      Decision tree            Madrid\n",
       "3   Test   765.33  27.66  0.55      Decision tree            Madrid\n",
       "4  Train   735.17  27.11  0.61      Random forest            Madrid\n",
       "5   Test   739.23  27.19  0.57      Random forest            Madrid\n",
       "6  Train   744.88  27.29  0.61           Catboost            Madrid\n",
       "7   Test   718.69  26.81  0.58           Catboost            Madrid"
      ]
     },
     "execution_count": 154,
     "metadata": {},
     "output_type": "execute_result"
    }
   ],
   "source": [
    "metric=pd.concat([metric_Kiev,metric_DC,metric_Madrid])\n",
    "metric.columns = ['Subset', 'MSE', 'RMSE', 'R2', 'Type', 'city']\n",
    "metric"
   ]
  },
  {
   "cell_type": "code",
   "execution_count": 156,
   "metadata": {},
   "outputs": [
    {
     "data": {
      "text/plain": [
       "Index(['Subset', 'MSE', 'RMSE', 'R2', 'Type', 'city'], dtype='object')"
      ]
     },
     "execution_count": 156,
     "metadata": {},
     "output_type": "execute_result"
    }
   ],
   "source": [
    "metric.columns"
   ]
  },
  {
   "cell_type": "code",
   "execution_count": 163,
   "metadata": {},
   "outputs": [
    {
     "data": {
      "text/html": [
       "<div>\n",
       "<style scoped>\n",
       "    .dataframe tbody tr th:only-of-type {\n",
       "        vertical-align: middle;\n",
       "    }\n",
       "\n",
       "    .dataframe tbody tr th {\n",
       "        vertical-align: top;\n",
       "    }\n",
       "\n",
       "    .dataframe thead th {\n",
       "        text-align: right;\n",
       "    }\n",
       "</style>\n",
       "<table border=\"1\" class=\"dataframe\">\n",
       "  <thead>\n",
       "    <tr style=\"text-align: right;\">\n",
       "      <th></th>\n",
       "      <th></th>\n",
       "      <th></th>\n",
       "      <th>MSE</th>\n",
       "      <th>R2</th>\n",
       "      <th>RMSE</th>\n",
       "    </tr>\n",
       "    <tr>\n",
       "      <th>city</th>\n",
       "      <th>Subset</th>\n",
       "      <th>Type</th>\n",
       "      <th></th>\n",
       "      <th></th>\n",
       "      <th></th>\n",
       "    </tr>\n",
       "  </thead>\n",
       "  <tbody>\n",
       "    <tr>\n",
       "      <th rowspan=\"8\" valign=\"top\">Kiev</th>\n",
       "      <th rowspan=\"4\" valign=\"top\">Test</th>\n",
       "      <th>Catboost</th>\n",
       "      <td>103.74</td>\n",
       "      <td>0.10</td>\n",
       "      <td>10.19</td>\n",
       "    </tr>\n",
       "    <tr>\n",
       "      <th>Decision tree</th>\n",
       "      <td>106.74</td>\n",
       "      <td>0.05</td>\n",
       "      <td>10.33</td>\n",
       "    </tr>\n",
       "    <tr>\n",
       "      <th>Linear regression</th>\n",
       "      <td>109.78</td>\n",
       "      <td>0.02</td>\n",
       "      <td>10.48</td>\n",
       "    </tr>\n",
       "    <tr>\n",
       "      <th>Random forest</th>\n",
       "      <td>122.12</td>\n",
       "      <td>0.12</td>\n",
       "      <td>11.05</td>\n",
       "    </tr>\n",
       "    <tr>\n",
       "      <th rowspan=\"4\" valign=\"top\">Train</th>\n",
       "      <th>Catboost</th>\n",
       "      <td>91.09</td>\n",
       "      <td>0.13</td>\n",
       "      <td>9.54</td>\n",
       "    </tr>\n",
       "    <tr>\n",
       "      <th>Decision tree</th>\n",
       "      <td>92.95</td>\n",
       "      <td>0.09</td>\n",
       "      <td>9.64</td>\n",
       "    </tr>\n",
       "    <tr>\n",
       "      <th>Linear regression</th>\n",
       "      <td>102.45</td>\n",
       "      <td>0.01</td>\n",
       "      <td>10.12</td>\n",
       "    </tr>\n",
       "    <tr>\n",
       "      <th>Random forest</th>\n",
       "      <td>79.39</td>\n",
       "      <td>0.25</td>\n",
       "      <td>8.91</td>\n",
       "    </tr>\n",
       "    <tr>\n",
       "      <th rowspan=\"8\" valign=\"top\">Madrid</th>\n",
       "      <th rowspan=\"4\" valign=\"top\">Test</th>\n",
       "      <th>Catboost</th>\n",
       "      <td>718.69</td>\n",
       "      <td>0.58</td>\n",
       "      <td>26.81</td>\n",
       "    </tr>\n",
       "    <tr>\n",
       "      <th>Decision tree</th>\n",
       "      <td>765.33</td>\n",
       "      <td>0.55</td>\n",
       "      <td>27.66</td>\n",
       "    </tr>\n",
       "    <tr>\n",
       "      <th>Linear regression</th>\n",
       "      <td>810.84</td>\n",
       "      <td>0.46</td>\n",
       "      <td>28.48</td>\n",
       "    </tr>\n",
       "    <tr>\n",
       "      <th>Random forest</th>\n",
       "      <td>739.23</td>\n",
       "      <td>0.57</td>\n",
       "      <td>27.19</td>\n",
       "    </tr>\n",
       "    <tr>\n",
       "      <th rowspan=\"4\" valign=\"top\">Train</th>\n",
       "      <th>Catboost</th>\n",
       "      <td>744.88</td>\n",
       "      <td>0.61</td>\n",
       "      <td>27.29</td>\n",
       "    </tr>\n",
       "    <tr>\n",
       "      <th>Decision tree</th>\n",
       "      <td>774.50</td>\n",
       "      <td>0.58</td>\n",
       "      <td>27.83</td>\n",
       "    </tr>\n",
       "    <tr>\n",
       "      <th>Linear regression</th>\n",
       "      <td>947.77</td>\n",
       "      <td>0.40</td>\n",
       "      <td>30.79</td>\n",
       "    </tr>\n",
       "    <tr>\n",
       "      <th>Random forest</th>\n",
       "      <td>735.17</td>\n",
       "      <td>0.61</td>\n",
       "      <td>27.11</td>\n",
       "    </tr>\n",
       "    <tr>\n",
       "      <th rowspan=\"8\" valign=\"top\">Washington, D.C.</th>\n",
       "      <th rowspan=\"4\" valign=\"top\">Test</th>\n",
       "      <th>Catboost</th>\n",
       "      <td>4252.93</td>\n",
       "      <td>0.28</td>\n",
       "      <td>65.21</td>\n",
       "    </tr>\n",
       "    <tr>\n",
       "      <th>Decision tree</th>\n",
       "      <td>4301.46</td>\n",
       "      <td>0.28</td>\n",
       "      <td>65.59</td>\n",
       "    </tr>\n",
       "    <tr>\n",
       "      <th>Linear regression</th>\n",
       "      <td>4777.81</td>\n",
       "      <td>0.17</td>\n",
       "      <td>69.12</td>\n",
       "    </tr>\n",
       "    <tr>\n",
       "      <th>Random forest</th>\n",
       "      <td>4442.93</td>\n",
       "      <td>0.26</td>\n",
       "      <td>66.66</td>\n",
       "    </tr>\n",
       "    <tr>\n",
       "      <th rowspan=\"4\" valign=\"top\">Train</th>\n",
       "      <th>Catboost</th>\n",
       "      <td>4210.78</td>\n",
       "      <td>0.28</td>\n",
       "      <td>64.89</td>\n",
       "    </tr>\n",
       "    <tr>\n",
       "      <th>Decision tree</th>\n",
       "      <td>4296.16</td>\n",
       "      <td>0.27</td>\n",
       "      <td>65.55</td>\n",
       "    </tr>\n",
       "    <tr>\n",
       "      <th>Linear regression</th>\n",
       "      <td>4784.76</td>\n",
       "      <td>0.13</td>\n",
       "      <td>69.17</td>\n",
       "    </tr>\n",
       "    <tr>\n",
       "      <th>Random forest</th>\n",
       "      <td>4429.81</td>\n",
       "      <td>0.24</td>\n",
       "      <td>66.56</td>\n",
       "    </tr>\n",
       "  </tbody>\n",
       "</table>\n",
       "</div>"
      ],
      "text/plain": [
       "                                               MSE    R2   RMSE\n",
       "city             Subset Type                                   \n",
       "Kiev             Test   Catboost            103.74  0.10  10.19\n",
       "                        Decision tree       106.74  0.05  10.33\n",
       "                        Linear regression   109.78  0.02  10.48\n",
       "                        Random forest       122.12  0.12  11.05\n",
       "                 Train  Catboost             91.09  0.13   9.54\n",
       "                        Decision tree        92.95  0.09   9.64\n",
       "                        Linear regression   102.45  0.01  10.12\n",
       "                        Random forest        79.39  0.25   8.91\n",
       "Madrid           Test   Catboost            718.69  0.58  26.81\n",
       "                        Decision tree       765.33  0.55  27.66\n",
       "                        Linear regression   810.84  0.46  28.48\n",
       "                        Random forest       739.23  0.57  27.19\n",
       "                 Train  Catboost            744.88  0.61  27.29\n",
       "                        Decision tree       774.50  0.58  27.83\n",
       "                        Linear regression   947.77  0.40  30.79\n",
       "                        Random forest       735.17  0.61  27.11\n",
       "Washington, D.C. Test   Catboost           4252.93  0.28  65.21\n",
       "                        Decision tree      4301.46  0.28  65.59\n",
       "                        Linear regression  4777.81  0.17  69.12\n",
       "                        Random forest      4442.93  0.26  66.66\n",
       "                 Train  Catboost           4210.78  0.28  64.89\n",
       "                        Decision tree      4296.16  0.27  65.55\n",
       "                        Linear regression  4784.76  0.13  69.17\n",
       "                        Random forest      4429.81  0.24  66.56"
      ]
     },
     "execution_count": 163,
     "metadata": {},
     "output_type": "execute_result"
    }
   ],
   "source": [
    "metric.groupby(['city','Subset'])\n",
    "pd.pivot_table(metric, index=['city', 'Subset','Type'],\n",
    "                     aggfunc=np.sum)"
   ]
  }
 ],
 "metadata": {
  "kernelspec": {
   "display_name": "Python 3",
   "language": "python",
   "name": "python3"
  },
  "language_info": {
   "codemirror_mode": {
    "name": "ipython",
    "version": 3
   },
   "file_extension": ".py",
   "mimetype": "text/x-python",
   "name": "python",
   "nbconvert_exporter": "python",
   "pygments_lexer": "ipython3",
   "version": "3.7.6"
  }
 },
 "nbformat": 4,
 "nbformat_minor": 4
}
